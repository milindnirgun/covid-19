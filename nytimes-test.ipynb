{
 "cells": [
  {
   "cell_type": "code",
   "execution_count": 38,
   "metadata": {},
   "outputs": [
    {
     "name": "stdout",
     "output_type": "stream",
     "text": [
      "1.1.3\n"
     ]
    }
   ],
   "source": [
    "import pandas as pd\n",
    "import numpy as np\n",
    "import plotly.express as px\n",
    "import plotly.graph_objects as go\n",
    "import altair as alt\n",
    "\n",
    "print(pd.__version__)\n"
   ]
  },
  {
   "cell_type": "code",
   "execution_count": 45,
   "metadata": {},
   "outputs": [],
   "source": [
    "COUNTY_DATA = 'data/nyc-us-counties.csv'\n",
    "STATE_DATA = 'data/nyc-us-states.csv'\n",
    "US_DATA = 'data/nyc-us.csv'"
   ]
  },
  {
   "cell_type": "code",
   "execution_count": 40,
   "metadata": {},
   "outputs": [
    {
     "data": {
      "text/plain": [
       "date       object\n",
       "county     object\n",
       "state      object\n",
       "fips      float64\n",
       "cases       int64\n",
       "deaths      int64\n",
       "dtype: object"
      ]
     },
     "execution_count": 40,
     "metadata": {},
     "output_type": "execute_result"
    }
   ],
   "source": [
    "df = pd.read_csv(COUNTY_DATA)\n",
    "df.dtypes"
   ]
  },
  {
   "cell_type": "code",
   "execution_count": 41,
   "metadata": {},
   "outputs": [
    {
     "data": {
      "text/html": [
       "<div>\n",
       "<style scoped>\n",
       "    .dataframe tbody tr th:only-of-type {\n",
       "        vertical-align: middle;\n",
       "    }\n",
       "\n",
       "    .dataframe tbody tr th {\n",
       "        vertical-align: top;\n",
       "    }\n",
       "\n",
       "    .dataframe thead th {\n",
       "        text-align: right;\n",
       "    }\n",
       "</style>\n",
       "<table border=\"1\" class=\"dataframe\">\n",
       "  <thead>\n",
       "    <tr style=\"text-align: right;\">\n",
       "      <th></th>\n",
       "      <th>date</th>\n",
       "      <th>county</th>\n",
       "      <th>state</th>\n",
       "      <th>fips</th>\n",
       "      <th>cases</th>\n",
       "      <th>deaths</th>\n",
       "    </tr>\n",
       "  </thead>\n",
       "  <tbody>\n",
       "    <tr>\n",
       "      <th>647924</th>\n",
       "      <td>2020-10-20</td>\n",
       "      <td>Autauga</td>\n",
       "      <td>Alabama</td>\n",
       "      <td>1001.0</td>\n",
       "      <td>2010</td>\n",
       "      <td>29</td>\n",
       "    </tr>\n",
       "    <tr>\n",
       "      <th>647925</th>\n",
       "      <td>2020-10-20</td>\n",
       "      <td>Baldwin</td>\n",
       "      <td>Alabama</td>\n",
       "      <td>1003.0</td>\n",
       "      <td>6405</td>\n",
       "      <td>69</td>\n",
       "    </tr>\n",
       "    <tr>\n",
       "      <th>647926</th>\n",
       "      <td>2020-10-20</td>\n",
       "      <td>Barbour</td>\n",
       "      <td>Alabama</td>\n",
       "      <td>1005.0</td>\n",
       "      <td>988</td>\n",
       "      <td>9</td>\n",
       "    </tr>\n",
       "    <tr>\n",
       "      <th>647927</th>\n",
       "      <td>2020-10-20</td>\n",
       "      <td>Bibb</td>\n",
       "      <td>Alabama</td>\n",
       "      <td>1007.0</td>\n",
       "      <td>791</td>\n",
       "      <td>14</td>\n",
       "    </tr>\n",
       "    <tr>\n",
       "      <th>647928</th>\n",
       "      <td>2020-10-20</td>\n",
       "      <td>Blount</td>\n",
       "      <td>Alabama</td>\n",
       "      <td>1009.0</td>\n",
       "      <td>1848</td>\n",
       "      <td>24</td>\n",
       "    </tr>\n",
       "  </tbody>\n",
       "</table>\n",
       "</div>"
      ],
      "text/plain": [
       "              date   county    state    fips  cases  deaths\n",
       "647924  2020-10-20  Autauga  Alabama  1001.0   2010      29\n",
       "647925  2020-10-20  Baldwin  Alabama  1003.0   6405      69\n",
       "647926  2020-10-20  Barbour  Alabama  1005.0    988       9\n",
       "647927  2020-10-20     Bibb  Alabama  1007.0    791      14\n",
       "647928  2020-10-20   Blount  Alabama  1009.0   1848      24"
      ]
     },
     "execution_count": 41,
     "metadata": {},
     "output_type": "execute_result"
    }
   ],
   "source": [
    "xdf = df[df.date == df.date.max()]\n",
    "xdf.head()"
   ]
  },
  {
   "cell_type": "code",
   "execution_count": 42,
   "metadata": {},
   "outputs": [],
   "source": [
    "xdf = df.groupby(by='county').agg({'cases': 'sum',\n",
    "                            'deaths': 'sum',\n",
    "                            'state': lambda x: x.iloc[1],\n",
    "                            'fips': lambda x: x.iloc[1]})\n"
   ]
  },
  {
   "cell_type": "code",
   "execution_count": 43,
   "metadata": {},
   "outputs": [
    {
     "data": {
      "text/plain": [
       "4222405"
      ]
     },
     "execution_count": 43,
     "metadata": {},
     "output_type": "execute_result"
    }
   ],
   "source": [
    "xdf.deaths.max()"
   ]
  },
  {
   "cell_type": "code",
   "execution_count": 44,
   "metadata": {},
   "outputs": [
    {
     "data": {
      "text/html": [
       "\n",
       "<div id=\"altair-viz-be625b04f627467e96cbad27309b45a8\"></div>\n",
       "<script type=\"text/javascript\">\n",
       "  (function(spec, embedOpt){\n",
       "    let outputDiv = document.currentScript.previousElementSibling;\n",
       "    if (outputDiv.id !== \"altair-viz-be625b04f627467e96cbad27309b45a8\") {\n",
       "      outputDiv = document.getElementById(\"altair-viz-be625b04f627467e96cbad27309b45a8\");\n",
       "    }\n",
       "    const paths = {\n",
       "      \"vega\": \"https://cdn.jsdelivr.net/npm//vega@5?noext\",\n",
       "      \"vega-lib\": \"https://cdn.jsdelivr.net/npm//vega-lib?noext\",\n",
       "      \"vega-lite\": \"https://cdn.jsdelivr.net/npm//vega-lite@4.8.1?noext\",\n",
       "      \"vega-embed\": \"https://cdn.jsdelivr.net/npm//vega-embed@6?noext\",\n",
       "    };\n",
       "\n",
       "    function loadScript(lib) {\n",
       "      return new Promise(function(resolve, reject) {\n",
       "        var s = document.createElement('script');\n",
       "        s.src = paths[lib];\n",
       "        s.async = true;\n",
       "        s.onload = () => resolve(paths[lib]);\n",
       "        s.onerror = () => reject(`Error loading script: ${paths[lib]}`);\n",
       "        document.getElementsByTagName(\"head\")[0].appendChild(s);\n",
       "      });\n",
       "    }\n",
       "\n",
       "    function showError(err) {\n",
       "      outputDiv.innerHTML = `<div class=\"error\" style=\"color:red;\">${err}</div>`;\n",
       "      throw err;\n",
       "    }\n",
       "\n",
       "    function displayChart(vegaEmbed) {\n",
       "      vegaEmbed(outputDiv, spec, embedOpt)\n",
       "        .catch(err => showError(`Javascript Error: ${err.message}<br>This usually means there's a typo in your chart specification. See the javascript console for the full traceback.`));\n",
       "    }\n",
       "\n",
       "    if(typeof define === \"function\" && define.amd) {\n",
       "      requirejs.config({paths});\n",
       "      require([\"vega-embed\"], displayChart, err => showError(`Error loading script: ${err.message}`));\n",
       "    } else if (typeof vegaEmbed === \"function\") {\n",
       "      displayChart(vegaEmbed);\n",
       "    } else {\n",
       "      loadScript(\"vega\")\n",
       "        .then(() => loadScript(\"vega-lite\"))\n",
       "        .then(() => loadScript(\"vega-embed\"))\n",
       "        .catch(showError)\n",
       "        .then(() => displayChart(vegaEmbed));\n",
       "    }\n",
       "  })({\"config\": {\"view\": {\"continuousWidth\": 400, \"continuousHeight\": 300}}, \"data\": {\"url\": \"https://vega.github.io/vega-datasets/data/us-10m.json\", \"format\": {\"feature\": \"counties\", \"type\": \"topojson\"}}, \"mark\": \"geoshape\", \"encoding\": {\"color\": {\"type\": \"quantitative\", \"field\": \"deaths\"}, \"tooltip\": {\"type\": \"quantitative\", \"field\": \"id\"}}, \"height\": 300, \"projection\": {\"type\": \"albersUsa\"}, \"transform\": [{\"lookup\": \"id\", \"from\": {\"data\": {\"url\": \"county_data.json\"}, \"key\": \"fips\", \"fields\": [\"deaths\"]}}], \"width\": 500, \"$schema\": \"https://vega.github.io/schema/vega-lite/v4.8.1.json\"}, {\"mode\": \"vega-lite\"});\n",
       "</script>"
      ],
      "text/plain": [
       "alt.Chart(...)"
      ]
     },
     "execution_count": 44,
     "metadata": {},
     "output_type": "execute_result"
    }
   ],
   "source": [
    "from vega_datasets import data\n",
    "\n",
    "counties = alt.topo_feature(data.us_10m.url, 'counties')\n",
    "#source = data.unemployment.url\n",
    "\n",
    "url = 'county_data.json'\n",
    "xdf.to_json(url, orient='records')\n",
    "\n",
    "#alt.data_transformers.disable_max_rows()\n",
    "alt.data_transformers.enable('json')\n",
    "\n",
    "alt.Chart(counties).mark_geoshape().encode(\n",
    "    color='deaths:Q',\n",
    "    tooltip='id:Q'\n",
    ").transform_lookup(\n",
    "    lookup='id',\n",
    "    from_=alt.LookupData(url, 'fips', ['deaths'])\n",
    ").project(\n",
    "    type='albersUsa'\n",
    ").properties(\n",
    "    width=500,\n",
    "    height=300\n",
    ")\n"
   ]
  },
  {
   "cell_type": "markdown",
   "metadata": {},
   "source": [
    "### Analyzing States Data"
   ]
  },
  {
   "cell_type": "code",
   "execution_count": 46,
   "metadata": {},
   "outputs": [
    {
     "data": {
      "text/plain": [
       "date      object\n",
       "state     object\n",
       "fips       int64\n",
       "cases      int64\n",
       "deaths     int64\n",
       "dtype: object"
      ]
     },
     "execution_count": 46,
     "metadata": {},
     "output_type": "execute_result"
    }
   ],
   "source": [
    "df = pd.read_csv(STATE_DATA)\n",
    "df.dtypes"
   ]
  },
  {
   "cell_type": "markdown",
   "metadata": {},
   "source": [
    "### Analyzing US Data"
   ]
  },
  {
   "cell_type": "code",
   "execution_count": 118,
   "metadata": {},
   "outputs": [
    {
     "data": {
      "text/plain": [
       "date      object\n",
       "cases      int64\n",
       "deaths     int64\n",
       "dtype: object"
      ]
     },
     "execution_count": 118,
     "metadata": {},
     "output_type": "execute_result"
    }
   ],
   "source": [
    "u_df = pd.read_csv(US_DATA)\n",
    "u_df.dtypes"
   ]
  },
  {
   "cell_type": "code",
   "execution_count": 119,
   "metadata": {},
   "outputs": [
    {
     "data": {
      "text/html": [
       "<div>\n",
       "<style scoped>\n",
       "    .dataframe tbody tr th:only-of-type {\n",
       "        vertical-align: middle;\n",
       "    }\n",
       "\n",
       "    .dataframe tbody tr th {\n",
       "        vertical-align: top;\n",
       "    }\n",
       "\n",
       "    .dataframe thead th {\n",
       "        text-align: right;\n",
       "    }\n",
       "</style>\n",
       "<table border=\"1\" class=\"dataframe\">\n",
       "  <thead>\n",
       "    <tr style=\"text-align: right;\">\n",
       "      <th></th>\n",
       "      <th>date</th>\n",
       "      <th>cases</th>\n",
       "      <th>deaths</th>\n",
       "    </tr>\n",
       "  </thead>\n",
       "  <tbody>\n",
       "    <tr>\n",
       "      <th>269</th>\n",
       "      <td>2020-10-16</td>\n",
       "      <td>8090568</td>\n",
       "      <td>218494</td>\n",
       "    </tr>\n",
       "    <tr>\n",
       "      <th>270</th>\n",
       "      <td>2020-10-17</td>\n",
       "      <td>8143329</td>\n",
       "      <td>219173</td>\n",
       "    </tr>\n",
       "    <tr>\n",
       "      <th>271</th>\n",
       "      <td>2020-10-18</td>\n",
       "      <td>8191211</td>\n",
       "      <td>219541</td>\n",
       "    </tr>\n",
       "    <tr>\n",
       "      <th>272</th>\n",
       "      <td>2020-10-19</td>\n",
       "      <td>8255429</td>\n",
       "      <td>220058</td>\n",
       "    </tr>\n",
       "    <tr>\n",
       "      <th>273</th>\n",
       "      <td>2020-10-20</td>\n",
       "      <td>8316027</td>\n",
       "      <td>220987</td>\n",
       "    </tr>\n",
       "  </tbody>\n",
       "</table>\n",
       "</div>"
      ],
      "text/plain": [
       "           date    cases  deaths\n",
       "269  2020-10-16  8090568  218494\n",
       "270  2020-10-17  8143329  219173\n",
       "271  2020-10-18  8191211  219541\n",
       "272  2020-10-19  8255429  220058\n",
       "273  2020-10-20  8316027  220987"
      ]
     },
     "execution_count": 119,
     "metadata": {},
     "output_type": "execute_result"
    }
   ],
   "source": [
    "u_df.tail()"
   ]
  },
  {
   "cell_type": "code",
   "execution_count": 120,
   "metadata": {},
   "outputs": [],
   "source": [
    "# Calculate daily changes in confirmed cases with a given EMA in weeks\n",
    "def getChangeConfCases(u_df, ema):\n",
    "    d = u_df.cases.diff()\n",
    "    tmp_df = pd.DataFrame(u_df)\n",
    "    tmp_df['CASES_CHANGE'] = d\n",
    "    tmp_df['CASES_EMA'] = d.ewm(span=7, adjust=False).mean()\n",
    "    tmp_df.dropna(inplace=True)\n",
    "    tmp_df = tmp_df.astype({'CASES_CHANGE': 'int64'})\n",
    "\n",
    "    return tmp_df\n",
    "\n",
    "# Calculate daily changes in deaths with a given EMA in weeks\n",
    "def getChangeDeaths(u_df, ema):\n",
    "    d = u_df.deaths.diff()\n",
    "    tmp_df = pd.DataFrame(u_df)\n",
    "    tmp_df['DEATHS_CHANGE'] = d\n",
    "    tmp_df['DEATHS_EMA'] = d.ewm(span=7, adjust=False).mean()\n",
    "    tmp_df.dropna(inplace=True)\n",
    "    tmp_df = tmp_df.astype({'DEATHS_CHANGE': 'int64'})\n",
    "    \n",
    "    return tmp_df\n"
   ]
  },
  {
   "cell_type": "code",
   "execution_count": 121,
   "metadata": {},
   "outputs": [
    {
     "data": {
      "text/html": [
       "<div>\n",
       "<style scoped>\n",
       "    .dataframe tbody tr th:only-of-type {\n",
       "        vertical-align: middle;\n",
       "    }\n",
       "\n",
       "    .dataframe tbody tr th {\n",
       "        vertical-align: top;\n",
       "    }\n",
       "\n",
       "    .dataframe thead th {\n",
       "        text-align: right;\n",
       "    }\n",
       "</style>\n",
       "<table border=\"1\" class=\"dataframe\">\n",
       "  <thead>\n",
       "    <tr style=\"text-align: right;\">\n",
       "      <th></th>\n",
       "      <th>date</th>\n",
       "      <th>cases</th>\n",
       "      <th>deaths</th>\n",
       "      <th>CASES_CHANGE</th>\n",
       "      <th>CASES_EMA</th>\n",
       "    </tr>\n",
       "  </thead>\n",
       "  <tbody>\n",
       "    <tr>\n",
       "      <th>269</th>\n",
       "      <td>2020-10-16</td>\n",
       "      <td>8090568</td>\n",
       "      <td>218494</td>\n",
       "      <td>70464</td>\n",
       "      <td>59394.694551</td>\n",
       "    </tr>\n",
       "    <tr>\n",
       "      <th>270</th>\n",
       "      <td>2020-10-17</td>\n",
       "      <td>8143329</td>\n",
       "      <td>219173</td>\n",
       "      <td>52761</td>\n",
       "      <td>57736.270914</td>\n",
       "    </tr>\n",
       "    <tr>\n",
       "      <th>271</th>\n",
       "      <td>2020-10-18</td>\n",
       "      <td>8191211</td>\n",
       "      <td>219541</td>\n",
       "      <td>47882</td>\n",
       "      <td>55272.703185</td>\n",
       "    </tr>\n",
       "    <tr>\n",
       "      <th>272</th>\n",
       "      <td>2020-10-19</td>\n",
       "      <td>8255429</td>\n",
       "      <td>220058</td>\n",
       "      <td>64218</td>\n",
       "      <td>57509.027389</td>\n",
       "    </tr>\n",
       "    <tr>\n",
       "      <th>273</th>\n",
       "      <td>2020-10-20</td>\n",
       "      <td>8316027</td>\n",
       "      <td>220987</td>\n",
       "      <td>60598</td>\n",
       "      <td>58281.270542</td>\n",
       "    </tr>\n",
       "  </tbody>\n",
       "</table>\n",
       "</div>"
      ],
      "text/plain": [
       "           date    cases  deaths  CASES_CHANGE     CASES_EMA\n",
       "269  2020-10-16  8090568  218494         70464  59394.694551\n",
       "270  2020-10-17  8143329  219173         52761  57736.270914\n",
       "271  2020-10-18  8191211  219541         47882  55272.703185\n",
       "272  2020-10-19  8255429  220058         64218  57509.027389\n",
       "273  2020-10-20  8316027  220987         60598  58281.270542"
      ]
     },
     "execution_count": 121,
     "metadata": {},
     "output_type": "execute_result"
    }
   ],
   "source": [
    "p_df = getChangeConfCases(u_df,1)\n",
    "p_df.tail()"
   ]
  },
  {
   "cell_type": "code",
   "execution_count": 122,
   "metadata": {},
   "outputs": [
    {
     "data": {
      "text/html": [
       "<div>\n",
       "<style scoped>\n",
       "    .dataframe tbody tr th:only-of-type {\n",
       "        vertical-align: middle;\n",
       "    }\n",
       "\n",
       "    .dataframe tbody tr th {\n",
       "        vertical-align: top;\n",
       "    }\n",
       "\n",
       "    .dataframe thead th {\n",
       "        text-align: right;\n",
       "    }\n",
       "</style>\n",
       "<table border=\"1\" class=\"dataframe\">\n",
       "  <thead>\n",
       "    <tr style=\"text-align: right;\">\n",
       "      <th></th>\n",
       "      <th>date</th>\n",
       "      <th>cases</th>\n",
       "      <th>deaths</th>\n",
       "      <th>CASES_CHANGE</th>\n",
       "      <th>CASES_EMA</th>\n",
       "      <th>DEATHS_CHANGE</th>\n",
       "      <th>DEATHS_EMA</th>\n",
       "    </tr>\n",
       "  </thead>\n",
       "  <tbody>\n",
       "    <tr>\n",
       "      <th>264</th>\n",
       "      <td>2020-10-11</td>\n",
       "      <td>7794625</td>\n",
       "      <td>214606</td>\n",
       "      <td>44766.0</td>\n",
       "      <td>49492.420661</td>\n",
       "      <td>419</td>\n",
       "      <td>671.695327</td>\n",
       "    </tr>\n",
       "    <tr>\n",
       "      <th>265</th>\n",
       "      <td>2020-10-12</td>\n",
       "      <td>7840546</td>\n",
       "      <td>214957</td>\n",
       "      <td>45921.0</td>\n",
       "      <td>48599.565496</td>\n",
       "      <td>351</td>\n",
       "      <td>591.521495</td>\n",
       "    </tr>\n",
       "    <tr>\n",
       "      <th>266</th>\n",
       "      <td>2020-10-13</td>\n",
       "      <td>7894905</td>\n",
       "      <td>215783</td>\n",
       "      <td>54359.0</td>\n",
       "      <td>50039.424122</td>\n",
       "      <td>826</td>\n",
       "      <td>650.141121</td>\n",
       "    </tr>\n",
       "    <tr>\n",
       "      <th>267</th>\n",
       "      <td>2020-10-14</td>\n",
       "      <td>7954777</td>\n",
       "      <td>216792</td>\n",
       "      <td>59872.0</td>\n",
       "      <td>52497.568091</td>\n",
       "      <td>1009</td>\n",
       "      <td>739.855841</td>\n",
       "    </tr>\n",
       "    <tr>\n",
       "      <th>268</th>\n",
       "      <td>2020-10-15</td>\n",
       "      <td>8020104</td>\n",
       "      <td>217585</td>\n",
       "      <td>65327.0</td>\n",
       "      <td>55704.926069</td>\n",
       "      <td>793</td>\n",
       "      <td>753.141881</td>\n",
       "    </tr>\n",
       "    <tr>\n",
       "      <th>269</th>\n",
       "      <td>2020-10-16</td>\n",
       "      <td>8090568</td>\n",
       "      <td>218494</td>\n",
       "      <td>70464.0</td>\n",
       "      <td>59394.694551</td>\n",
       "      <td>909</td>\n",
       "      <td>792.106410</td>\n",
       "    </tr>\n",
       "    <tr>\n",
       "      <th>270</th>\n",
       "      <td>2020-10-17</td>\n",
       "      <td>8143329</td>\n",
       "      <td>219173</td>\n",
       "      <td>52761.0</td>\n",
       "      <td>57736.270914</td>\n",
       "      <td>679</td>\n",
       "      <td>763.829808</td>\n",
       "    </tr>\n",
       "    <tr>\n",
       "      <th>271</th>\n",
       "      <td>2020-10-18</td>\n",
       "      <td>8191211</td>\n",
       "      <td>219541</td>\n",
       "      <td>47882.0</td>\n",
       "      <td>55272.703185</td>\n",
       "      <td>368</td>\n",
       "      <td>664.872356</td>\n",
       "    </tr>\n",
       "    <tr>\n",
       "      <th>272</th>\n",
       "      <td>2020-10-19</td>\n",
       "      <td>8255429</td>\n",
       "      <td>220058</td>\n",
       "      <td>64218.0</td>\n",
       "      <td>57509.027389</td>\n",
       "      <td>517</td>\n",
       "      <td>627.904267</td>\n",
       "    </tr>\n",
       "    <tr>\n",
       "      <th>273</th>\n",
       "      <td>2020-10-20</td>\n",
       "      <td>8316027</td>\n",
       "      <td>220987</td>\n",
       "      <td>60598.0</td>\n",
       "      <td>58281.270542</td>\n",
       "      <td>929</td>\n",
       "      <td>703.178200</td>\n",
       "    </tr>\n",
       "  </tbody>\n",
       "</table>\n",
       "</div>"
      ],
      "text/plain": [
       "           date    cases  deaths  CASES_CHANGE     CASES_EMA  DEATHS_CHANGE  \\\n",
       "264  2020-10-11  7794625  214606       44766.0  49492.420661            419   \n",
       "265  2020-10-12  7840546  214957       45921.0  48599.565496            351   \n",
       "266  2020-10-13  7894905  215783       54359.0  50039.424122            826   \n",
       "267  2020-10-14  7954777  216792       59872.0  52497.568091           1009   \n",
       "268  2020-10-15  8020104  217585       65327.0  55704.926069            793   \n",
       "269  2020-10-16  8090568  218494       70464.0  59394.694551            909   \n",
       "270  2020-10-17  8143329  219173       52761.0  57736.270914            679   \n",
       "271  2020-10-18  8191211  219541       47882.0  55272.703185            368   \n",
       "272  2020-10-19  8255429  220058       64218.0  57509.027389            517   \n",
       "273  2020-10-20  8316027  220987       60598.0  58281.270542            929   \n",
       "\n",
       "     DEATHS_EMA  \n",
       "264  671.695327  \n",
       "265  591.521495  \n",
       "266  650.141121  \n",
       "267  739.855841  \n",
       "268  753.141881  \n",
       "269  792.106410  \n",
       "270  763.829808  \n",
       "271  664.872356  \n",
       "272  627.904267  \n",
       "273  703.178200  "
      ]
     },
     "execution_count": 122,
     "metadata": {},
     "output_type": "execute_result"
    }
   ],
   "source": [
    "d_df = getChangeDeaths(u_df, 1)\n",
    "d_df.tail(10)"
   ]
  },
  {
   "cell_type": "code",
   "execution_count": 123,
   "metadata": {},
   "outputs": [],
   "source": [
    "# Create an Altair bar chart to show daily changes over a weekly period\n",
    "# df - DataFrame to be used for the plot\n",
    "# field - variable to plot on the Y axis\n",
    "def createIncrementalBarChart(df, field):\n",
    "    if (field == 'CASES_CHANGE'):\n",
    "        chartTitle = \"Confirmed Cases\"\n",
    "        emaCol = \"CASES_EMA\"\n",
    "    else:\n",
    "        chartTitle = \"Reported Deaths\"\n",
    "        emaCol = \"DEATHS_EMA\"\n",
    "\n",
    "    axisTitle = \"Daily Change\"\n",
    "\n",
    "    bar = alt.Chart(df).mark_bar(opacity=0.6).encode(\n",
    "                x = alt.X(\"date:T\", axis=alt.Axis(title='Date')),\n",
    "                y = alt.Y(field + \":Q\", stack=None, axis=alt.Axis(title=axisTitle))\n",
    "            ).properties(\n",
    "                width=640,\n",
    "                height=480\n",
    "            )\n",
    "    line = alt.Chart(df).mark_line().encode(\n",
    "            alt.X(\"date:T\"),\n",
    "            alt.Y(emaCol + \":Q\"),\n",
    "            color=alt.value('red')\n",
    "    )\n",
    "    layer = alt.layer(bar, line\n",
    "            ).properties(\n",
    "                title=chartTitle\n",
    "            ).configure_title(\n",
    "                fontSize=20,\n",
    "                align='center',\n",
    "                color='gray'  \n",
    "            ).configure_axis(\n",
    "                grid=False,\n",
    "                titleFontSize=14\n",
    "            )\n",
    "    chart = bar + line\n",
    "    # TODO - the configuration below does not seem to have any effect - fix\n",
    "    chart.configure_title(\n",
    "        fontSize=20,\n",
    "        anchor='start',\n",
    "        color='gray'  \n",
    "    )\n",
    "    return (layer)\n"
   ]
  },
  {
   "cell_type": "code",
   "execution_count": 124,
   "metadata": {},
   "outputs": [
    {
     "data": {
      "text/html": [
       "\n",
       "<div id=\"altair-viz-c666b9f8b87843a5b46771bc49cb7e79\"></div>\n",
       "<script type=\"text/javascript\">\n",
       "  (function(spec, embedOpt){\n",
       "    let outputDiv = document.currentScript.previousElementSibling;\n",
       "    if (outputDiv.id !== \"altair-viz-c666b9f8b87843a5b46771bc49cb7e79\") {\n",
       "      outputDiv = document.getElementById(\"altair-viz-c666b9f8b87843a5b46771bc49cb7e79\");\n",
       "    }\n",
       "    const paths = {\n",
       "      \"vega\": \"https://cdn.jsdelivr.net/npm//vega@5?noext\",\n",
       "      \"vega-lib\": \"https://cdn.jsdelivr.net/npm//vega-lib?noext\",\n",
       "      \"vega-lite\": \"https://cdn.jsdelivr.net/npm//vega-lite@4.8.1?noext\",\n",
       "      \"vega-embed\": \"https://cdn.jsdelivr.net/npm//vega-embed@6?noext\",\n",
       "    };\n",
       "\n",
       "    function loadScript(lib) {\n",
       "      return new Promise(function(resolve, reject) {\n",
       "        var s = document.createElement('script');\n",
       "        s.src = paths[lib];\n",
       "        s.async = true;\n",
       "        s.onload = () => resolve(paths[lib]);\n",
       "        s.onerror = () => reject(`Error loading script: ${paths[lib]}`);\n",
       "        document.getElementsByTagName(\"head\")[0].appendChild(s);\n",
       "      });\n",
       "    }\n",
       "\n",
       "    function showError(err) {\n",
       "      outputDiv.innerHTML = `<div class=\"error\" style=\"color:red;\">${err}</div>`;\n",
       "      throw err;\n",
       "    }\n",
       "\n",
       "    function displayChart(vegaEmbed) {\n",
       "      vegaEmbed(outputDiv, spec, embedOpt)\n",
       "        .catch(err => showError(`Javascript Error: ${err.message}<br>This usually means there's a typo in your chart specification. See the javascript console for the full traceback.`));\n",
       "    }\n",
       "\n",
       "    if(typeof define === \"function\" && define.amd) {\n",
       "      requirejs.config({paths});\n",
       "      require([\"vega-embed\"], displayChart, err => showError(`Error loading script: ${err.message}`));\n",
       "    } else if (typeof vegaEmbed === \"function\") {\n",
       "      displayChart(vegaEmbed);\n",
       "    } else {\n",
       "      loadScript(\"vega\")\n",
       "        .then(() => loadScript(\"vega-lite\"))\n",
       "        .then(() => loadScript(\"vega-embed\"))\n",
       "        .catch(showError)\n",
       "        .then(() => displayChart(vegaEmbed));\n",
       "    }\n",
       "  })({\"config\": {\"view\": {\"continuousWidth\": 400, \"continuousHeight\": 300}, \"axis\": {\"grid\": false, \"titleFontSize\": 14}, \"title\": {\"align\": \"center\", \"color\": \"gray\", \"fontSize\": 20}}, \"layer\": [{\"mark\": {\"type\": \"bar\", \"opacity\": 0.6}, \"encoding\": {\"x\": {\"type\": \"temporal\", \"axis\": {\"title\": \"Date\"}, \"field\": \"date\"}, \"y\": {\"type\": \"quantitative\", \"axis\": {\"title\": \"Daily Change\"}, \"field\": \"CASES_CHANGE\", \"stack\": null}}, \"height\": 480, \"width\": 640}, {\"mark\": \"line\", \"encoding\": {\"color\": {\"value\": \"red\"}, \"x\": {\"type\": \"temporal\", \"field\": \"date\"}, \"y\": {\"type\": \"quantitative\", \"field\": \"CASES_EMA\"}}}], \"data\": {\"url\": \"altair-data-b987f70914c856e52471e2a72eda5e10.json\", \"format\": {\"type\": \"json\"}}, \"title\": \"Confirmed Cases\", \"$schema\": \"https://vega.github.io/schema/vega-lite/v4.8.1.json\"}, {\"mode\": \"vega-lite\"});\n",
       "</script>"
      ],
      "text/plain": [
       "alt.LayerChart(...)"
      ]
     },
     "execution_count": 124,
     "metadata": {},
     "output_type": "execute_result"
    }
   ],
   "source": [
    "p_df = getChangeConfCases(u_df,1)\n",
    "chart = createIncrementalBarChart(p_df, \"CASES_CHANGE\")\n",
    "chart"
   ]
  },
  {
   "cell_type": "code",
   "execution_count": 125,
   "metadata": {},
   "outputs": [
    {
     "data": {
      "text/html": [
       "\n",
       "<div id=\"altair-viz-daf37b8320794b5680df2008cd808c68\"></div>\n",
       "<script type=\"text/javascript\">\n",
       "  (function(spec, embedOpt){\n",
       "    let outputDiv = document.currentScript.previousElementSibling;\n",
       "    if (outputDiv.id !== \"altair-viz-daf37b8320794b5680df2008cd808c68\") {\n",
       "      outputDiv = document.getElementById(\"altair-viz-daf37b8320794b5680df2008cd808c68\");\n",
       "    }\n",
       "    const paths = {\n",
       "      \"vega\": \"https://cdn.jsdelivr.net/npm//vega@5?noext\",\n",
       "      \"vega-lib\": \"https://cdn.jsdelivr.net/npm//vega-lib?noext\",\n",
       "      \"vega-lite\": \"https://cdn.jsdelivr.net/npm//vega-lite@4.8.1?noext\",\n",
       "      \"vega-embed\": \"https://cdn.jsdelivr.net/npm//vega-embed@6?noext\",\n",
       "    };\n",
       "\n",
       "    function loadScript(lib) {\n",
       "      return new Promise(function(resolve, reject) {\n",
       "        var s = document.createElement('script');\n",
       "        s.src = paths[lib];\n",
       "        s.async = true;\n",
       "        s.onload = () => resolve(paths[lib]);\n",
       "        s.onerror = () => reject(`Error loading script: ${paths[lib]}`);\n",
       "        document.getElementsByTagName(\"head\")[0].appendChild(s);\n",
       "      });\n",
       "    }\n",
       "\n",
       "    function showError(err) {\n",
       "      outputDiv.innerHTML = `<div class=\"error\" style=\"color:red;\">${err}</div>`;\n",
       "      throw err;\n",
       "    }\n",
       "\n",
       "    function displayChart(vegaEmbed) {\n",
       "      vegaEmbed(outputDiv, spec, embedOpt)\n",
       "        .catch(err => showError(`Javascript Error: ${err.message}<br>This usually means there's a typo in your chart specification. See the javascript console for the full traceback.`));\n",
       "    }\n",
       "\n",
       "    if(typeof define === \"function\" && define.amd) {\n",
       "      requirejs.config({paths});\n",
       "      require([\"vega-embed\"], displayChart, err => showError(`Error loading script: ${err.message}`));\n",
       "    } else if (typeof vegaEmbed === \"function\") {\n",
       "      displayChart(vegaEmbed);\n",
       "    } else {\n",
       "      loadScript(\"vega\")\n",
       "        .then(() => loadScript(\"vega-lite\"))\n",
       "        .then(() => loadScript(\"vega-embed\"))\n",
       "        .catch(showError)\n",
       "        .then(() => displayChart(vegaEmbed));\n",
       "    }\n",
       "  })({\"config\": {\"view\": {\"continuousWidth\": 400, \"continuousHeight\": 300}, \"axis\": {\"grid\": false, \"titleFontSize\": 14}, \"title\": {\"align\": \"center\", \"color\": \"gray\", \"fontSize\": 20}}, \"layer\": [{\"mark\": {\"type\": \"bar\", \"opacity\": 0.6}, \"encoding\": {\"x\": {\"type\": \"temporal\", \"axis\": {\"title\": \"Date\"}, \"field\": \"date\"}, \"y\": {\"type\": \"quantitative\", \"axis\": {\"title\": \"Daily Change\"}, \"field\": \"DEATHS_CHANGE\", \"stack\": null}}, \"height\": 480, \"width\": 640}, {\"mark\": \"line\", \"encoding\": {\"color\": {\"value\": \"red\"}, \"x\": {\"type\": \"temporal\", \"field\": \"date\"}, \"y\": {\"type\": \"quantitative\", \"field\": \"DEATHS_EMA\"}}}], \"data\": {\"url\": \"altair-data-a34a6fca280a7f963d32c151b024c68f.json\", \"format\": {\"type\": \"json\"}}, \"title\": \"Reported Deaths\", \"$schema\": \"https://vega.github.io/schema/vega-lite/v4.8.1.json\"}, {\"mode\": \"vega-lite\"});\n",
       "</script>"
      ],
      "text/plain": [
       "alt.LayerChart(...)"
      ]
     },
     "execution_count": 125,
     "metadata": {},
     "output_type": "execute_result"
    }
   ],
   "source": [
    "d_df = getChangeDeaths(u_df, 1)\n",
    "dchart = createIncrementalBarChart(d_df, \"DEATHS_CHANGE\")\n",
    "dchart"
   ]
  }
 ],
 "metadata": {
  "kernelspec": {
   "display_name": "Python 3",
   "language": "python",
   "name": "python3"
  },
  "language_info": {
   "codemirror_mode": {
    "name": "ipython",
    "version": 3
   },
   "file_extension": ".py",
   "mimetype": "text/x-python",
   "name": "python",
   "nbconvert_exporter": "python",
   "pygments_lexer": "ipython3",
   "version": "3.6.9"
  }
 },
 "nbformat": 4,
 "nbformat_minor": 4
}
